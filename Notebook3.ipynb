{
 "cells": [
  {
   "cell_type": "code",
   "execution_count": 2,
   "metadata": {},
   "outputs": [
    {
     "name": "stderr",
     "output_type": "stream",
     "text": [
      "C:\\Users\\Ponpon\\AppData\\Local\\Temp\\ipykernel_3696\\1579317541.py:11: TqdmExperimentalWarning: Using `tqdm.autonotebook.tqdm` in notebook mode. Use `tqdm.tqdm` instead to force console mode (e.g. in jupyter console)\n",
      "  from tqdm.autonotebook import tqdm\n"
     ]
    }
   ],
   "source": [
    "# This notebook aims at fixing SR - Detection\n",
    "# Train Yolo more with SR images\n",
    "\n",
    "#%%\n",
    "# Standard libraries imports\n",
    "import importlib\n",
    "import os\n",
    "import glob\n",
    "import random\n",
    "import shutil\n",
    "from tqdm.autonotebook import tqdm\n",
    "import pybboxes as pbx\n",
    "\n",
    "\n",
    "# Data manipulation libraries imports (for image processing)\n",
    "import pandas as pd\n",
    "import cv2\n",
    "import numpy as np\n",
    "import matplotlib.pyplot as plt\n",
    "import pickle\n",
    "\n",
    "# Torch libraries imports\n",
    "import torch\n",
    "from torch import nn\n",
    "from torch.nn.functional import softmax\n",
    "from torch.utils.data import DataLoader, Dataset\n",
    "from torch.optim import Adam, SGD\n",
    "from torch.optim.lr_scheduler import StepLR\n",
    "\n",
    "\n",
    "# # Pytorch Lightning libraries imports\n",
    "# import pytorch_lightning as pl\n",
    "# from pytorch_lightning import Trainer, seed_everything\n",
    "# from pytorch_lightning.loggers import TensorBoardLogger\n",
    "# from pytorch_lightning.loggers.csv_logs import CSVLogger\n",
    "# from pytorch_lightning.callbacks import ModelCheckpoint, EarlyStopping\n",
    "\n",
    "# Torch utilities libraries imports\n",
    "import torchmetrics\n",
    "from torchsummary import summary\n",
    "from torchmetrics.image import PeakSignalNoiseRatio, StructuralSimilarityIndexMeasure\n",
    "# from torchvision.models import resnet101\n",
    "from torchvision import transforms\n",
    "\n",
    "torch.cuda.empty_cache()\n",
    "DEVICE = torch.device(\"cuda\" if torch.cuda.is_available() else \"cpu\")\n",
    "#%%\n",
    "ToK1871_annotation = 'NomDataset/datasets/mono-domain-datasets/tale-of-kieu/1871/1871-annotation/annotation-mynom/'\n",
    "ToK1871_image = 'NomDataset/datasets/mono-domain-datasets/tale-of-kieu/1871/1871-raw-images/'\n",
    "\n",
    "ToK1902_annotation = 'NomDataset/datasets/mono-domain-datasets/tale-of-kieu/1902/1902-annotation/annotation-mynom/'\n",
    "Tok1902_image = 'NomDataset/datasets/mono-domain-datasets/tale-of-kieu/1902/1902-raw-images/'\n",
    "\n",
    "LVT_annotation = 'NomDataset/datasets/mono-domain-datasets/luc-van-tien/lvt-annotation/annotation-mynom/'\n",
    "LVT_image = 'NomDataset/datasets/mono-domain-datasets/luc-van-tien/lvt-raw-images/'"
   ]
  },
  {
   "cell_type": "code",
   "execution_count": 2,
   "metadata": {},
   "outputs": [],
   "source": [
    "# Make folders\n",
    "if not os.path.exists('yolov5'):\n",
    "    raise Exception('yolov5 not found. Please clone the repository first')\n",
    "\n",
    "if not os.path.exists('yolov5/data/yolov5-data-one-label-SR-nom'):\n",
    "    os.makedirs('yolov5/data/yolov5-data-one-label-SR-nom/train/images', exist_ok=True)\n",
    "    os.makedirs('yolov5/data/yolov5-data-one-label-SR-nom/train/labels', exist_ok=True)\n",
    "    os.makedirs('yolov5/data/yolov5-data-one-label-SR-nom/val/images', exist_ok=True)\n",
    "    os.makedirs('yolov5/data/yolov5-data-one-label-SR-nom/val/labels', exist_ok=True)\n",
    "    os.makedirs('yolov5/data/yolov5-data-one-label-SR-nom/test/images', exist_ok=True)\n",
    "    os.makedirs('yolov5/data/yolov5-data-one-label-SR-nom/test/labels', exist_ok=True)\n",
    "\n",
    "# ToK 1871 for training, 1902 for validation, LVT for testing\n"
   ]
  },
  {
   "cell_type": "code",
   "execution_count": 3,
   "metadata": {},
   "outputs": [
    {
     "name": "stdout",
     "output_type": "stream",
     "text": [
      "Number of items inside the folder: 137\n",
      "Number of items inside the folder: 164\n",
      "Number of items inside the folder: 105\n"
     ]
    }
   ],
   "source": [
    "folder_path = 'TempResources\\SR_from_HR_ToK1871'\n",
    "num_items = len(os.listdir(folder_path))\n",
    "print(f\"Number of items inside the folder: {num_items}\")\n",
    "\n",
    "folder_path = 'TempResources\\SR_from_HR_ToK1902'\n",
    "num_items = len(os.listdir(folder_path))\n",
    "print(f\"Number of items inside the folder: {num_items}\")\n",
    "\n",
    "folder_path = 'TempResources\\SR_from_HR_LVT'\n",
    "num_items = len(os.listdir(folder_path))\n",
    "print(f\"Number of items inside the folder: {num_items}\")"
   ]
  },
  {
   "cell_type": "code",
   "execution_count": 4,
   "metadata": {},
   "outputs": [
    {
     "data": {
      "application/vnd.jupyter.widget-view+json": {
       "model_id": "51ec8469d7dc4cd684e325c94fa7d85b",
       "version_major": 2,
       "version_minor": 0
      },
      "text/plain": [
       "  0%|          | 0/137 [00:00<?, ?it/s]"
      ]
     },
     "metadata": {},
     "output_type": "display_data"
    },
    {
     "data": {
      "application/vnd.jupyter.widget-view+json": {
       "model_id": "c66fe994232e4499935b319e6e6a5e24",
       "version_major": 2,
       "version_minor": 0
      },
      "text/plain": [
       "  0%|          | 0/164 [00:00<?, ?it/s]"
      ]
     },
     "metadata": {},
     "output_type": "display_data"
    },
    {
     "data": {
      "application/vnd.jupyter.widget-view+json": {
       "model_id": "dd10a605f74546f197c070dcee5736c7",
       "version_major": 2,
       "version_minor": 0
      },
      "text/plain": [
       "  0%|          | 0/105 [00:00<?, ?it/s]"
      ]
     },
     "metadata": {},
     "output_type": "display_data"
    }
   ],
   "source": [
    "ToK1871_SR_file_path_temp = 'TempResources\\SR_from_HR_ToK1871'\n",
    "ToK1902_SR_file_path_temp = 'TempResources\\SR_from_HR_ToK1902'\n",
    "LVT_SR_file_path_temp = 'TempResources\\SR_from_HR_LVT'\n",
    "\n",
    "ToK1871_SR_file_path_yolo = 'yolov5/data/yolov5-data-one-label-SR-nom/train/images'\n",
    "ToK1902_SR_file_path_yolo = 'yolov5/data/yolov5-data-one-label-SR-nom/val/images'\n",
    "LVT_SR_file_path_yolo = 'yolov5/data/yolov5-data-one-label-SR-nom/test/images'\n",
    "\n",
    "# Copy 1871 to train, 1902 to val, LVT to test\n",
    "for file in tqdm(os.listdir(ToK1871_SR_file_path_temp)):\n",
    "    if os.path.exists(os.path.join(ToK1871_SR_file_path_yolo, file)):\n",
    "        continue\n",
    "    shutil.copy(os.path.join(ToK1871_SR_file_path_temp, file), ToK1871_SR_file_path_yolo)\n",
    "\n",
    "for file in tqdm(os.listdir(ToK1902_SR_file_path_temp)):\n",
    "    if os.path.exists(os.path.join(ToK1902_SR_file_path_yolo, file)):\n",
    "        continue\n",
    "    shutil.copy(os.path.join(ToK1902_SR_file_path_temp, file), ToK1902_SR_file_path_yolo)\n",
    "\n",
    "for file in tqdm(os.listdir(LVT_SR_file_path_temp)):\n",
    "    if os.path.exists(os.path.join(LVT_SR_file_path_yolo, file)):\n",
    "        continue\n",
    "    shutil.copy(os.path.join(LVT_SR_file_path_temp, file), LVT_SR_file_path_yolo)"
   ]
  },
  {
   "cell_type": "code",
   "execution_count": 5,
   "metadata": {},
   "outputs": [
    {
     "name": "stdout",
     "output_type": "stream",
     "text": [
      "Number of items inside the folder: 137\n",
      "Number of items inside the folder: 164\n",
      "Number of items inside the folder: 105\n"
     ]
    }
   ],
   "source": [
    "folder_path = 'yolov5/data/yolov5-data-one-label-SR-nom/train/images'\n",
    "num_items = len(os.listdir(folder_path))\n",
    "print(f\"Number of items inside the folder: {num_items}\")\n",
    "\n",
    "folder_path = 'yolov5/data/yolov5-data-one-label-SR-nom/val/images'\n",
    "num_items = len(os.listdir(folder_path))\n",
    "print(f\"Number of items inside the folder: {num_items}\")\n",
    "\n",
    "folder_path = 'yolov5/data/yolov5-data-one-label-SR-nom/test/images'\n",
    "num_items = len(os.listdir(folder_path))\n",
    "print(f\"Number of items inside the folder: {num_items}\")"
   ]
  },
  {
   "cell_type": "code",
   "execution_count": 25,
   "metadata": {},
   "outputs": [
    {
     "data": {
      "application/vnd.jupyter.widget-view+json": {
       "model_id": "1dbbd544c2444b2ea9afe1ce6b9a937e",
       "version_major": 2,
       "version_minor": 0
      },
      "text/plain": [
       "0it [00:00, ?it/s]"
      ]
     },
     "metadata": {},
     "output_type": "display_data"
    },
    {
     "data": {
      "application/vnd.jupyter.widget-view+json": {
       "model_id": "0042779ef323434ab989e85a3197ea7d",
       "version_major": 2,
       "version_minor": 0
      },
      "text/plain": [
       "0it [00:00, ?it/s]"
      ]
     },
     "metadata": {},
     "output_type": "display_data"
    },
    {
     "data": {
      "application/vnd.jupyter.widget-view+json": {
       "model_id": "6768ac2e4a8d416e823403e2b242a757",
       "version_major": 2,
       "version_minor": 0
      },
      "text/plain": [
       "0it [00:00, ?it/s]"
      ]
     },
     "metadata": {},
     "output_type": "display_data"
    }
   ],
   "source": [
    "# Create labels file\n",
    "SCALE = 4\n",
    "\n",
    "ToK1871_label_file_path_yolo = 'yolov5/data/yolov5-data-one-label-SR-nom/train/labels'\n",
    "ToK1902_label_file_path_yolo = 'yolov5/data/yolov5-data-one-label-SR-nom/val/labels'\n",
    "LVT_label_file_path_yolo = 'yolov5/data/yolov5-data-one-label-SR-nom/test/labels'\n",
    "\n",
    "for excel_file, image_file in tqdm(zip(os.listdir(ToK1871_annotation), os.listdir(ToK1871_SR_file_path_yolo))):\n",
    "    df = pd.read_excel(os.path.join(ToK1871_annotation, excel_file))\n",
    "    img = cv2.imread(os.path.join(ToK1871_SR_file_path_yolo, image_file))\n",
    "    h, w, _ = img.shape\n",
    "\n",
    "    bbox_list = []\n",
    "    for index, row in df.iterrows():\n",
    "        x_tl, y_tl, x_br, y_br = row['LEFT'], row['TOP'], row['RIGHT'], row['BOTTOM']\n",
    "        \n",
    "        x_tl *= SCALE\n",
    "        y_tl *= SCALE\n",
    "        x_br *= SCALE\n",
    "        y_br *= SCALE\n",
    "\n",
    "\n",
    "        # print(x_tl, y_tl, x_br, y_br, \"img shape\", w, h)\n",
    "        # cv2.rectangle(img, (x_tl, y_tl), (x_br, y_br), (0, 255, 0), 2)\n",
    "\n",
    "        bbox = pbx.convert_bbox((x_tl, y_tl, x_br, y_br), from_type='voc', to_type='yolo', image_size=(w, h))\n",
    "        bbox_list.append(bbox)\n",
    "\n",
    "    # plt.imshow(img)\n",
    "\n",
    "    class_id = 0\n",
    "    label_file_path = os.path.join(ToK1871_label_file_path_yolo, image_file.split('.')[0] + '.txt')\n",
    "    with open(label_file_path, 'w') as f:\n",
    "        for bbox in bbox_list:\n",
    "            f.write(f\"{class_id} {bbox[0]} {bbox[1]} {bbox[2]} {bbox[3]}\\n\")\n",
    "    \n",
    "    # print(f\"Label file \" + image_file.split('.')[0] + \".txt created\")\n",
    "\n",
    "#================================================================================================\n",
    "\n",
    "for excel_file, image_file in tqdm(zip(os.listdir(ToK1902_annotation), os.listdir(ToK1902_SR_file_path_yolo))):\n",
    "    df = pd.read_excel(os.path.join(ToK1902_annotation, excel_file))\n",
    "    img = cv2.imread(os.path.join(ToK1902_SR_file_path_yolo, image_file))\n",
    "    h, w, _ = img.shape\n",
    "\n",
    "    bbox_list = []\n",
    "    for index, row in df.iterrows():\n",
    "        x_tl, y_tl, x_br, y_br = row['LEFT'], row['TOP'], row['RIGHT'], row['BOTTOM']\n",
    "        \n",
    "        x_tl *= SCALE\n",
    "        y_tl *= SCALE\n",
    "        x_br *= SCALE\n",
    "        y_br *= SCALE\n",
    "\n",
    "\n",
    "        # print(x_tl, y_tl, x_br, y_br, \"img shape\", w, h)\n",
    "        # cv2.rectangle(img, (x_tl, y_tl), (x_br, y_br), (0, 255, 0), 2)\n",
    "\n",
    "        bbox = pbx.convert_bbox((x_tl, y_tl, x_br, y_br), from_type='voc', to_type='yolo', image_size=(w, h))\n",
    "        bbox_list.append(bbox)\n",
    "\n",
    "    # plt.imshow(img)\n",
    "\n",
    "    class_id = 0\n",
    "    label_file_path = os.path.join(ToK1902_label_file_path_yolo, image_file.split('.')[0] + '.txt')\n",
    "    with open(label_file_path, 'w') as f:\n",
    "        for bbox in bbox_list:\n",
    "            f.write(f\"{class_id} {bbox[0]} {bbox[1]} {bbox[2]} {bbox[3]}\\n\")\n",
    "    \n",
    "    # print(f\"Label file \" + image_file.split('.')[0] + \".txt created\")\n",
    "\n",
    "#================================================================================================ \n",
    "\n",
    "for excel_file, image_file in tqdm(zip(os.listdir(LVT_annotation), os.listdir(LVT_SR_file_path_yolo))):\n",
    "    df = pd.read_excel(os.path.join(LVT_annotation, excel_file))\n",
    "    img = cv2.imread(os.path.join(LVT_SR_file_path_yolo, image_file))\n",
    "    h, w, _ = img.shape\n",
    "\n",
    "    bbox_list = []\n",
    "    for index, row in df.iterrows():\n",
    "        x_tl, y_tl, x_br, y_br = row['LEFT'], row['TOP'], row['RIGHT'], row['BOTTOM']\n",
    "        \n",
    "        x_tl *= SCALE\n",
    "        y_tl *= SCALE\n",
    "        x_br *= SCALE\n",
    "        y_br *= SCALE\n",
    "\n",
    "\n",
    "        # print(x_tl, y_tl, x_br, y_br, \"img shape\", w, h)\n",
    "        # cv2.rectangle(img, (x_tl, y_tl), (x_br, y_br), (0, 255, 0), 2)\n",
    "\n",
    "        bbox = pbx.convert_bbox((x_tl, y_tl, x_br, y_br), from_type='voc', to_type='yolo', image_size=(w, h))\n",
    "        bbox_list.append(bbox)\n",
    "\n",
    "    # plt.imshow(img)\n",
    "\n",
    "    class_id = 0\n",
    "    label_file_path = os.path.join(LVT_label_file_path_yolo, image_file.split('.')[0] + '.txt')\n",
    "    with open(label_file_path, 'w') as f:\n",
    "        for bbox in bbox_list:\n",
    "            f.write(f\"{class_id} {bbox[0]} {bbox[1]} {bbox[2]} {bbox[3]}\\n\")\n",
    "    \n",
    "    # print(f\"Label file \" + image_file.split('.')[0] + \".txt created\")\n",
    "\n",
    "\n"
   ]
  },
  {
   "cell_type": "code",
   "execution_count": 1,
   "metadata": {},
   "outputs": [
    {
     "name": "stderr",
     "output_type": "stream",
     "text": [
      "wandb: Appending key for api.wandb.ai to your netrc file: C:\\Users\\Ponpon\\.netrc\n"
     ]
    }
   ],
   "source": [
    "!wandb login b68403205f19bf63bece72cee92107c44a322afe\n"
   ]
  },
  {
   "cell_type": "code",
   "execution_count": 4,
   "metadata": {},
   "outputs": [
    {
     "name": "stdout",
     "output_type": "stream",
     "text": [
      "[WinError 2] The system cannot find the file specified: 'yolov5'\n",
      "d:\\Documents\\GitHub\\Thesis\\yolov5\n"
     ]
    },
    {
     "name": "stderr",
     "output_type": "stream",
     "text": [
      "C:\\Users\\Ponpon\\AppData\\Roaming\\Python\\Python311\\site-packages\\IPython\\core\\magics\\osm.py:393: UserWarning: This is now an optional IPython functionality, using bookmarks requires you to install the `pickleshare` library.\n",
      "  bkms = self.shell.db.get('bookmarks', {})\n"
     ]
    },
    {
     "name": "stdout",
     "output_type": "stream",
     "text": [
      "^C\n"
     ]
    }
   ],
   "source": [
    "%cd yolov5\n",
    "!python train.py --img 640 --batch 16 --epochs 30 --data \"./data/yolov5-data-one-label-SR-nom.yaml\" --weights \"./weights/yolo_one_label.pt\" "
   ]
  },
  {
   "cell_type": "code",
   "execution_count": 3,
   "metadata": {},
   "outputs": [],
   "source": [
    "if not os.path.exists('yolov5/data/yolov5-data-one-label-mixed-nom'):\n",
    "    os.makedirs('yolov5/data/yolov5-data-one-label-mixed-nom/train/images', exist_ok=True)\n",
    "    os.makedirs('yolov5/data/yolov5-data-one-label-mixed-nom/train/labels', exist_ok=True)\n",
    "    os.makedirs('yolov5/data/yolov5-data-one-label-mixed-nom/val/images', exist_ok=True)\n",
    "    os.makedirs('yolov5/data/yolov5-data-one-label-mixed-nom/val/labels', exist_ok=True)\n",
    "    os.makedirs('yolov5/data/yolov5-data-one-label-mixed-nom/test/images', exist_ok=True)\n",
    "    os.makedirs('yolov5/data/yolov5-data-one-label-mixed-nom/test/labels', exist_ok=True)"
   ]
  },
  {
   "cell_type": "code",
   "execution_count": 6,
   "metadata": {},
   "outputs": [
    {
     "data": {
      "application/vnd.jupyter.widget-view+json": {
       "model_id": "89af16580b5e44be9b616297cc60cbf3",
       "version_major": 2,
       "version_minor": 0
      },
      "text/plain": [
       "  0%|          | 0/137 [00:00<?, ?it/s]"
      ]
     },
     "metadata": {},
     "output_type": "display_data"
    },
    {
     "data": {
      "application/vnd.jupyter.widget-view+json": {
       "model_id": "7233d74a3c5443699985192dd66a05f0",
       "version_major": 2,
       "version_minor": 0
      },
      "text/plain": [
       "  0%|          | 0/137 [00:00<?, ?it/s]"
      ]
     },
     "metadata": {},
     "output_type": "display_data"
    },
    {
     "data": {
      "application/vnd.jupyter.widget-view+json": {
       "model_id": "e32bd43d931b449bb84e71cf7e5306ca",
       "version_major": 2,
       "version_minor": 0
      },
      "text/plain": [
       "  0%|          | 0/164 [00:00<?, ?it/s]"
      ]
     },
     "metadata": {},
     "output_type": "display_data"
    },
    {
     "data": {
      "application/vnd.jupyter.widget-view+json": {
       "model_id": "a470f944f8884555912351570bc27119",
       "version_major": 2,
       "version_minor": 0
      },
      "text/plain": [
       "  0%|          | 0/164 [00:00<?, ?it/s]"
      ]
     },
     "metadata": {},
     "output_type": "display_data"
    },
    {
     "data": {
      "application/vnd.jupyter.widget-view+json": {
       "model_id": "9eca3060a1b74675a378d6e355f7530d",
       "version_major": 2,
       "version_minor": 0
      },
      "text/plain": [
       "  0%|          | 0/105 [00:00<?, ?it/s]"
      ]
     },
     "metadata": {},
     "output_type": "display_data"
    },
    {
     "data": {
      "application/vnd.jupyter.widget-view+json": {
       "model_id": "63ebaca428644e1ca2152af01ee0330a",
       "version_major": 2,
       "version_minor": 0
      },
      "text/plain": [
       "  0%|          | 0/105 [00:00<?, ?it/s]"
      ]
     },
     "metadata": {},
     "output_type": "display_data"
    }
   ],
   "source": [
    "ToK1871_SR_file_path_temp = 'TempResources\\SR_from_HR_ToK1871'\n",
    "ToK1902_SR_file_path_temp = 'TempResources\\SR_from_HR_ToK1902'\n",
    "LVT_SR_file_path_temp = 'TempResources\\SR_from_HR_LVT'\n",
    "\n",
    "ToK1871_SR_file_path_yolo = 'yolov5/data/yolov5-data-one-label-mixed-nom/train/images'\n",
    "ToK1902_SR_file_path_yolo = 'yolov5/data/yolov5-data-one-label-mixed-nom/val/images'\n",
    "LVT_SR_file_path_yolo = 'yolov5/data/yolov5-data-one-label-mixed-nom/test/images'\n",
    "\n",
    "# Copy 1871 to train, 1902 to val, LVT to test\n",
    "for file in tqdm(os.listdir(ToK1871_SR_file_path_temp)):\n",
    "    if os.path.exists(os.path.join(ToK1871_SR_file_path_yolo, file)):\n",
    "        continue\n",
    "    shutil.copy(os.path.join(ToK1871_SR_file_path_temp, file), ToK1871_SR_file_path_yolo)\n",
    "for file in tqdm(os.listdir(ToK1871_image)):\n",
    "    if os.path.exists(os.path.join(ToK1871_SR_file_path_yolo, file)):\n",
    "        continue\n",
    "    shutil.copy(os.path.join(ToK1871_image, file), ToK1871_SR_file_path_yolo)\n",
    "\n",
    "\n",
    "for file in tqdm(os.listdir(ToK1902_SR_file_path_temp)):\n",
    "    if os.path.exists(os.path.join(ToK1902_SR_file_path_yolo, file)):\n",
    "        continue\n",
    "    shutil.copy(os.path.join(ToK1902_SR_file_path_temp, file), ToK1902_SR_file_path_yolo)\n",
    "for file in tqdm(os.listdir(Tok1902_image)):\n",
    "    if os.path.exists(os.path.join(ToK1902_SR_file_path_yolo, file)):\n",
    "        continue\n",
    "    shutil.copy(os.path.join(Tok1902_image, file), ToK1902_SR_file_path_yolo)\n",
    "\n",
    "\n",
    "for file in tqdm(os.listdir(LVT_SR_file_path_temp)):\n",
    "    if os.path.exists(os.path.join(LVT_SR_file_path_yolo, file)):\n",
    "        continue\n",
    "    shutil.copy(os.path.join(LVT_SR_file_path_temp, file), LVT_SR_file_path_yolo)\n",
    "for file in tqdm(os.listdir(LVT_image)):\n",
    "    if os.path.exists(os.path.join(LVT_SR_file_path_yolo, file)):\n",
    "        continue\n",
    "    shutil.copy(os.path.join(LVT_image, file), LVT_SR_file_path_yolo)\n",
    "\n"
   ]
  },
  {
   "cell_type": "code",
   "execution_count": 8,
   "metadata": {},
   "outputs": [
    {
     "name": "stdout",
     "output_type": "stream",
     "text": [
      "Number of items inside the folder: 274\n",
      "Number of items inside the folder: 328\n",
      "Number of items inside the folder: 210\n"
     ]
    }
   ],
   "source": [
    "folder_path = 'yolov5/data/yolov5-data-one-label-mixed-nom/train/images'\n",
    "num_items = len(os.listdir(folder_path))\n",
    "print(f\"Number of items inside the folder: {num_items}\")\n",
    "\n",
    "folder_path = 'yolov5/data/yolov5-data-one-label-mixed-nom/val/images'\n",
    "num_items = len(os.listdir(folder_path))\n",
    "print(f\"Number of items inside the folder: {num_items}\")\n",
    "\n",
    "folder_path = 'yolov5/data/yolov5-data-one-label-mixed-nom/test/images'\n",
    "num_items = len(os.listdir(folder_path))\n",
    "print(f\"Number of items inside the folder: {num_items}\")"
   ]
  },
  {
   "cell_type": "code",
   "execution_count": 10,
   "metadata": {},
   "outputs": [
    {
     "data": {
      "application/vnd.jupyter.widget-view+json": {
       "model_id": "ee104770cd97417ca9abc541f955a204",
       "version_major": 2,
       "version_minor": 0
      },
      "text/plain": [
       "0it [00:00, ?it/s]"
      ]
     },
     "metadata": {},
     "output_type": "display_data"
    },
    {
     "data": {
      "application/vnd.jupyter.widget-view+json": {
       "model_id": "2137f82135e54f0d9f5246ec4bb5c64b",
       "version_major": 2,
       "version_minor": 0
      },
      "text/plain": [
       "0it [00:00, ?it/s]"
      ]
     },
     "metadata": {},
     "output_type": "display_data"
    },
    {
     "data": {
      "application/vnd.jupyter.widget-view+json": {
       "model_id": "9d2f782965da44f0a388f4491c8d40aa",
       "version_major": 2,
       "version_minor": 0
      },
      "text/plain": [
       "0it [00:00, ?it/s]"
      ]
     },
     "metadata": {},
     "output_type": "display_data"
    },
    {
     "data": {
      "application/vnd.jupyter.widget-view+json": {
       "model_id": "1437e9b87b13424ba1c9ef874bae92fe",
       "version_major": 2,
       "version_minor": 0
      },
      "text/plain": [
       "0it [00:00, ?it/s]"
      ]
     },
     "metadata": {},
     "output_type": "display_data"
    },
    {
     "data": {
      "application/vnd.jupyter.widget-view+json": {
       "model_id": "97d65c02ea6441e6b11ec348c81e6644",
       "version_major": 2,
       "version_minor": 0
      },
      "text/plain": [
       "0it [00:00, ?it/s]"
      ]
     },
     "metadata": {},
     "output_type": "display_data"
    },
    {
     "data": {
      "application/vnd.jupyter.widget-view+json": {
       "model_id": "b22369e1c8564de5a3a9568e67447d64",
       "version_major": 2,
       "version_minor": 0
      },
      "text/plain": [
       "0it [00:00, ?it/s]"
      ]
     },
     "metadata": {},
     "output_type": "display_data"
    }
   ],
   "source": [
    "# Create labels file\n",
    "SCALE = 4\n",
    "\n",
    "ToK1871_label_file_path_yolo = 'yolov5/data/yolov5-data-one-label-mixed-nom/train/labels'\n",
    "ToK1902_label_file_path_yolo = 'yolov5/data/yolov5-data-one-label-mixed-nom/val/labels'\n",
    "LVT_label_file_path_yolo = 'yolov5/data/yolov5-data-one-label-mixed-nom/test/labels'\n",
    "\n",
    "for excel_file, image_file in tqdm(zip(os.listdir(ToK1871_annotation), os.listdir(ToK1871_SR_file_path_yolo))):\n",
    "    df = pd.read_excel(os.path.join(ToK1871_annotation, excel_file))\n",
    "    img = cv2.imread(os.path.join(ToK1871_SR_file_path_yolo, image_file))\n",
    "    h, w, _ = img.shape\n",
    "\n",
    "    bbox_list = []\n",
    "    for index, row in df.iterrows():\n",
    "        x_tl, y_tl, x_br, y_br = row['LEFT'], row['TOP'], row['RIGHT'], row['BOTTOM']\n",
    "        \n",
    "        x_tl *= SCALE\n",
    "        y_tl *= SCALE\n",
    "        x_br *= SCALE\n",
    "        y_br *= SCALE\n",
    "\n",
    "\n",
    "        # print(x_tl, y_tl, x_br, y_br, \"img shape\", w, h)\n",
    "        # cv2.rectangle(img, (x_tl, y_tl), (x_br, y_br), (0, 255, 0), 2)\n",
    "\n",
    "        bbox = pbx.convert_bbox((x_tl, y_tl, x_br, y_br), from_type='voc', to_type='yolo', image_size=(w, h))\n",
    "        bbox_list.append(bbox)\n",
    "\n",
    "    # plt.imshow(img)\n",
    "\n",
    "    class_id = 0\n",
    "    label_file_path = os.path.join(ToK1871_label_file_path_yolo, image_file.split('.')[0] + '.txt')\n",
    "    with open(label_file_path, 'w') as f:\n",
    "        for bbox in bbox_list:\n",
    "            f.write(f\"{class_id} {bbox[0]} {bbox[1]} {bbox[2]} {bbox[3]}\\n\")\n",
    "    \n",
    "    # print(f\"Label file \" + image_file.split('.')[0] + \".txt created\")\n",
    "            \n",
    "\n",
    "#================================================================================================\n",
    "\n",
    "for excel_file, image_file in tqdm(zip(os.listdir(ToK1902_annotation), os.listdir(ToK1902_SR_file_path_yolo))):\n",
    "    df = pd.read_excel(os.path.join(ToK1902_annotation, excel_file))\n",
    "    img = cv2.imread(os.path.join(ToK1902_SR_file_path_yolo, image_file))\n",
    "    h, w, _ = img.shape\n",
    "\n",
    "    bbox_list = []\n",
    "    for index, row in df.iterrows():\n",
    "        x_tl, y_tl, x_br, y_br = row['LEFT'], row['TOP'], row['RIGHT'], row['BOTTOM']\n",
    "        \n",
    "        x_tl *= SCALE\n",
    "        y_tl *= SCALE\n",
    "        x_br *= SCALE\n",
    "        y_br *= SCALE\n",
    "\n",
    "\n",
    "        # print(x_tl, y_tl, x_br, y_br, \"img shape\", w, h)\n",
    "        # cv2.rectangle(img, (x_tl, y_tl), (x_br, y_br), (0, 255, 0), 2)\n",
    "\n",
    "        bbox = pbx.convert_bbox((x_tl, y_tl, x_br, y_br), from_type='voc', to_type='yolo', image_size=(w, h))\n",
    "        bbox_list.append(bbox)\n",
    "\n",
    "    # plt.imshow(img)\n",
    "\n",
    "    class_id = 0\n",
    "    label_file_path = os.path.join(ToK1902_label_file_path_yolo, image_file.split('.')[0] + '.txt')\n",
    "    with open(label_file_path, 'w') as f:\n",
    "        for bbox in bbox_list:\n",
    "            f.write(f\"{class_id} {bbox[0]} {bbox[1]} {bbox[2]} {bbox[3]}\\n\")\n",
    "    \n",
    "    # print(f\"Label file \" + image_file.split('.')[0] + \".txt created\")\n",
    "\n",
    "#================================================================================================ \n",
    "\n",
    "for excel_file, image_file in tqdm(zip(os.listdir(LVT_annotation), os.listdir(LVT_SR_file_path_yolo))):\n",
    "    df = pd.read_excel(os.path.join(LVT_annotation, excel_file))\n",
    "    img = cv2.imread(os.path.join(LVT_SR_file_path_yolo, image_file))\n",
    "    h, w, _ = img.shape\n",
    "\n",
    "    bbox_list = []\n",
    "    for index, row in df.iterrows():\n",
    "        x_tl, y_tl, x_br, y_br = row['LEFT'], row['TOP'], row['RIGHT'], row['BOTTOM']\n",
    "        \n",
    "        x_tl *= SCALE\n",
    "        y_tl *= SCALE\n",
    "        x_br *= SCALE\n",
    "        y_br *= SCALE\n",
    "\n",
    "\n",
    "        # print(x_tl, y_tl, x_br, y_br, \"img shape\", w, h)\n",
    "        # cv2.rectangle(img, (x_tl, y_tl), (x_br, y_br), (0, 255, 0), 2)\n",
    "\n",
    "        bbox = pbx.convert_bbox((x_tl, y_tl, x_br, y_br), from_type='voc', to_type='yolo', image_size=(w, h))\n",
    "        bbox_list.append(bbox)\n",
    "\n",
    "    # plt.imshow(img)\n",
    "\n",
    "    class_id = 0\n",
    "    label_file_path = os.path.join(LVT_label_file_path_yolo, image_file.split('.')[0] + '.txt')\n",
    "    with open(label_file_path, 'w') as f:\n",
    "        for bbox in bbox_list:\n",
    "            f.write(f\"{class_id} {bbox[0]} {bbox[1]} {bbox[2]} {bbox[3]}\\n\")\n",
    "    \n",
    "    # print(f\"Label file \" + image_file.split('.')[0] + \".txt created\")\n",
    "\n",
    "#====================================================================================================\n",
    "#====================================================================================================\n",
    "#====================================================================================================\n",
    "SCALE = 1\n",
    "\n",
    "for excel_file, image_file in tqdm(zip(os.listdir(ToK1871_annotation), os.listdir(ToK1871_image))):\n",
    "    df = pd.read_excel(os.path.join(ToK1871_annotation, excel_file))\n",
    "    img = cv2.imread(os.path.join(ToK1871_image, image_file))\n",
    "    h, w, _ = img.shape\n",
    "\n",
    "    bbox_list = []\n",
    "    for index, row in df.iterrows():\n",
    "        x_tl, y_tl, x_br, y_br = row['LEFT'], row['TOP'], row['RIGHT'], row['BOTTOM']\n",
    "        \n",
    "        x_tl *= SCALE\n",
    "        y_tl *= SCALE\n",
    "        x_br *= SCALE\n",
    "        y_br *= SCALE\n",
    "\n",
    "\n",
    "        # print(x_tl, y_tl, x_br, y_br, \"img shape\", w, h)\n",
    "        # cv2.rectangle(img, (x_tl, y_tl), (x_br, y_br), (0, 255, 0), 2)\n",
    "\n",
    "        bbox = pbx.convert_bbox((x_tl, y_tl, x_br, y_br), from_type='voc', to_type='yolo', image_size=(w, h))\n",
    "        bbox_list.append(bbox)\n",
    "\n",
    "    # plt.imshow(img)\n",
    "\n",
    "    class_id = 0\n",
    "    label_file_path = os.path.join(ToK1871_label_file_path_yolo, image_file.split('.')[0] + '.txt')\n",
    "    with open(label_file_path, 'w') as f:\n",
    "        for bbox in bbox_list:\n",
    "            f.write(f\"{class_id} {bbox[0]} {bbox[1]} {bbox[2]} {bbox[3]}\\n\")\n",
    "    \n",
    "    # print(f\"Label file \" + image_file.split('.')[0] + \".txt created\")\n",
    "            \n",
    "\n",
    "#================================================================================================\n",
    "\n",
    "for excel_file, image_file in tqdm(zip(os.listdir(ToK1902_annotation), os.listdir(Tok1902_image))):\n",
    "    df = pd.read_excel(os.path.join(ToK1902_annotation, excel_file))\n",
    "    img = cv2.imread(os.path.join(Tok1902_image, image_file))\n",
    "    h, w, _ = img.shape\n",
    "\n",
    "    bbox_list = []\n",
    "    for index, row in df.iterrows():\n",
    "        x_tl, y_tl, x_br, y_br = row['LEFT'], row['TOP'], row['RIGHT'], row['BOTTOM']\n",
    "        \n",
    "        x_tl *= SCALE\n",
    "        y_tl *= SCALE\n",
    "        x_br *= SCALE\n",
    "        y_br *= SCALE\n",
    "\n",
    "\n",
    "        # print(x_tl, y_tl, x_br, y_br, \"img shape\", w, h)\n",
    "        # cv2.rectangle(img, (x_tl, y_tl), (x_br, y_br), (0, 255, 0), 2)\n",
    "\n",
    "        bbox = pbx.convert_bbox((x_tl, y_tl, x_br, y_br), from_type='voc', to_type='yolo', image_size=(w, h))\n",
    "        bbox_list.append(bbox)\n",
    "\n",
    "    # plt.imshow(img)\n",
    "\n",
    "    class_id = 0\n",
    "    label_file_path = os.path.join(ToK1902_label_file_path_yolo, image_file.split('.')[0] + '.txt')\n",
    "    with open(label_file_path, 'w') as f:\n",
    "        for bbox in bbox_list:\n",
    "            f.write(f\"{class_id} {bbox[0]} {bbox[1]} {bbox[2]} {bbox[3]}\\n\")\n",
    "    \n",
    "    # print(f\"Label file \" + image_file.split('.')[0] + \".txt created\")\n",
    "\n",
    "#================================================================================================ \n",
    "\n",
    "for excel_file, image_file in tqdm(zip(os.listdir(LVT_annotation), os.listdir(LVT_image))):\n",
    "    df = pd.read_excel(os.path.join(LVT_annotation, excel_file))\n",
    "    img = cv2.imread(os.path.join(LVT_image, image_file))\n",
    "    h, w, _ = img.shape\n",
    "\n",
    "    bbox_list = []\n",
    "    for index, row in df.iterrows():\n",
    "        x_tl, y_tl, x_br, y_br = row['LEFT'], row['TOP'], row['RIGHT'], row['BOTTOM']\n",
    "        \n",
    "        x_tl *= SCALE\n",
    "        y_tl *= SCALE\n",
    "        x_br *= SCALE\n",
    "        y_br *= SCALE\n",
    "\n",
    "\n",
    "        # print(x_tl, y_tl, x_br, y_br, \"img shape\", w, h)\n",
    "        # cv2.rectangle(img, (x_tl, y_tl), (x_br, y_br), (0, 255, 0), 2)\n",
    "\n",
    "        bbox = pbx.convert_bbox((x_tl, y_tl, x_br, y_br), from_type='voc', to_type='yolo', image_size=(w, h))\n",
    "        bbox_list.append(bbox)\n",
    "\n",
    "    # plt.imshow(img)\n",
    "\n",
    "    class_id = 0\n",
    "    label_file_path = os.path.join(LVT_label_file_path_yolo, image_file.split('.')[0] + '.txt')\n",
    "    with open(label_file_path, 'w') as f:\n",
    "        for bbox in bbox_list:\n",
    "            f.write(f\"{class_id} {bbox[0]} {bbox[1]} {bbox[2]} {bbox[3]}\\n\")\n",
    "    \n",
    "    # print(f\"Label file \" + image_file.split('.')[0] + \".txt created\")\n"
   ]
  },
  {
   "cell_type": "code",
   "execution_count": null,
   "metadata": {},
   "outputs": [],
   "source": []
  }
 ],
 "metadata": {
  "kernelspec": {
   "display_name": "torch",
   "language": "python",
   "name": "python3"
  },
  "language_info": {
   "codemirror_mode": {
    "name": "ipython",
    "version": 3
   },
   "file_extension": ".py",
   "mimetype": "text/x-python",
   "name": "python",
   "nbconvert_exporter": "python",
   "pygments_lexer": "ipython3",
   "version": "3.11.8"
  }
 },
 "nbformat": 4,
 "nbformat_minor": 2
}
