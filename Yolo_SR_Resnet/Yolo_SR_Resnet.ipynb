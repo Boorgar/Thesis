{
 "cells": [
  {
   "cell_type": "code",
   "execution_count": null,
   "metadata": {},
   "outputs": [],
   "source": [
    "import cv2\n",
    "import numpy as np\n",
    "import os\n",
    "import pandas as pd\n",
    "import pickle\n",
    "\n",
    "from torch.utils.data import Dataset\n"
   ]
  },
  {
   "cell_type": "markdown",
   "metadata": {},
   "source": [
    "# Dataset"
   ]
  },
  {
   "cell_type": "code",
   "execution_count": null,
   "metadata": {},
   "outputs": [],
   "source": [
    "class NomImageDataset(Dataset):\n",
    "    def __init__(self, image_dir, annotation_dir, unicode_dict_path, transform=None):\n",
    "        self.root_dir = image_dir\n",
    "        self.annotations = dict()\n",
    "\n",
    "        with open(unicode_dict_path, 'r') as f:\n",
    "            self.unicode_dict = pickle.load(f)\n",
    "        for idx, k, v in enumerate(self.unicode_dict.items()):\n",
    "            self.unicode_dict[k] = idx\n",
    "\n",
    "        \n",
    "        for image_path in os.listdir(image_dir):\n",
    "            image_name = image_path.split('.')[0]\n",
    "            annotation_path = os.path.join(annotation_dir, image_name + '.txt')\n",
    "\n",
    "            with open(annotation_path, 'r') as f:\n",
    "                img_annotations = []\n",
    "                for line in f:\n",
    "                    line = line.strip()\n",
    "                    if line:\n",
    "                        # Line format: tl, tr, br, bl, unicode\n",
    "                        x_tl, y_tl, x_br, y_br, unicode = line.strip().split(',')\n",
    "                        x_tl, y_tl, x_br, y_br = int(x_tl), int(y_tl), int(x_br), int(y_br)\n",
    "                        unicode = self.unicode_dict[unicode]\n",
    "                        img_annotations.append((x_tl, y_tl, x_br, y_br, unicode))\n",
    "\n",
    "            self.annotations[image_name] = img_annotations\n",
    "\n",
    "        self.image_list = list(self.annotations.keys())\n",
    "        self.transform = transform\n",
    "\n",
    "    def __len__(self):\n",
    "        return len(self.image_list)\n",
    "\n",
    "    def __getitem__(self, idx):\n",
    "        image_name = self.image_list[idx]\n",
    "        image_path = os.path.join(self.root_dir, image_name + '.jpg')\n",
    "        image = cv2.imread(image_path)\n",
    "        # image = cv2.cvtColor(image, cv2.COLOR_BGR2RGB)\n",
    "\n",
    "        annotations = self.annotations[image_name]\n",
    "\n",
    "        if self.transform:\n",
    "            image = self.transform(image)\n",
    "\n",
    "        return image, annotations\n",
    "    \n",
    "dataset = NomImageDataset('data/images', 'data/annotations', 'data/unicode_dict.pkl')"
   ]
  }
 ],
 "metadata": {
  "kernelspec": {
   "display_name": ".venv",
   "language": "python",
   "name": "python3"
  },
  "language_info": {
   "name": "python",
   "version": "3.8.19"
  }
 },
 "nbformat": 4,
 "nbformat_minor": 2
}
